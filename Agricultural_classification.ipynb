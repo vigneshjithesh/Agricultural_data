{
 "cells": [
  {
   "cell_type": "code",
   "execution_count": 1,
   "id": "484f55cb",
   "metadata": {},
   "outputs": [],
   "source": [
    "import pandas as pd\n",
    "from sklearn.model_selection import train_test_split\n",
    "from sklearn.ensemble import RandomForestClassifier\n",
    "from sklearn.metrics import classification_report, accuracy_score\n"
   ]
  },
  {
   "cell_type": "code",
   "execution_count": 2,
   "id": "1e978029",
   "metadata": {},
   "outputs": [
    {
     "data": {
      "text/html": [
       "<div>\n",
       "<style scoped>\n",
       "    .dataframe tbody tr th:only-of-type {\n",
       "        vertical-align: middle;\n",
       "    }\n",
       "\n",
       "    .dataframe tbody tr th {\n",
       "        vertical-align: top;\n",
       "    }\n",
       "\n",
       "    .dataframe thead th {\n",
       "        text-align: right;\n",
       "    }\n",
       "</style>\n",
       "<table border=\"1\" class=\"dataframe\">\n",
       "  <thead>\n",
       "    <tr style=\"text-align: right;\">\n",
       "      <th></th>\n",
       "      <th>Temperature_C</th>\n",
       "      <th>Rainfall_mm</th>\n",
       "      <th>Humidity_%</th>\n",
       "      <th>Soil_pH</th>\n",
       "      <th>Sunshine_hours</th>\n",
       "      <th>Fertilizer_kg_per_hectare</th>\n",
       "      <th>Pesticide_kg_per_hectare</th>\n",
       "      <th>Crop_Yield_tonnes_per_hectare</th>\n",
       "    </tr>\n",
       "  </thead>\n",
       "  <tbody>\n",
       "    <tr>\n",
       "      <th>0</th>\n",
       "      <td>22.490802</td>\n",
       "      <td>224.540429</td>\n",
       "      <td>41.107976</td>\n",
       "      <td>6.538164</td>\n",
       "      <td>6.093645</td>\n",
       "      <td>174.127838</td>\n",
       "      <td>7.054327</td>\n",
       "      <td>4.292156</td>\n",
       "    </tr>\n",
       "    <tr>\n",
       "      <th>1</th>\n",
       "      <td>34.014286</td>\n",
       "      <td>184.024092</td>\n",
       "      <td>62.514057</td>\n",
       "      <td>6.458364</td>\n",
       "      <td>5.975830</td>\n",
       "      <td>164.679169</td>\n",
       "      <td>8.170133</td>\n",
       "      <td>8.421122</td>\n",
       "    </tr>\n",
       "    <tr>\n",
       "      <th>2</th>\n",
       "      <td>29.639879</td>\n",
       "      <td>127.381904</td>\n",
       "      <td>82.376750</td>\n",
       "      <td>5.551284</td>\n",
       "      <td>11.250037</td>\n",
       "      <td>136.029343</td>\n",
       "      <td>3.254211</td>\n",
       "      <td>9.977903</td>\n",
       "    </tr>\n",
       "    <tr>\n",
       "      <th>3</th>\n",
       "      <td>26.973170</td>\n",
       "      <td>253.448755</td>\n",
       "      <td>73.933493</td>\n",
       "      <td>6.182496</td>\n",
       "      <td>5.996370</td>\n",
       "      <td>193.407072</td>\n",
       "      <td>6.623867</td>\n",
       "      <td>2.240208</td>\n",
       "    </tr>\n",
       "    <tr>\n",
       "      <th>4</th>\n",
       "      <td>18.120373</td>\n",
       "      <td>221.182793</td>\n",
       "      <td>78.393669</td>\n",
       "      <td>6.260391</td>\n",
       "      <td>6.175598</td>\n",
       "      <td>80.071177</td>\n",
       "      <td>6.145714</td>\n",
       "      <td>9.178927</td>\n",
       "    </tr>\n",
       "    <tr>\n",
       "      <th>...</th>\n",
       "      <td>...</td>\n",
       "      <td>...</td>\n",
       "      <td>...</td>\n",
       "      <td>...</td>\n",
       "      <td>...</td>\n",
       "      <td>...</td>\n",
       "      <td>...</td>\n",
       "      <td>...</td>\n",
       "    </tr>\n",
       "    <tr>\n",
       "      <th>495</th>\n",
       "      <td>22.067045</td>\n",
       "      <td>72.895518</td>\n",
       "      <td>70.092768</td>\n",
       "      <td>6.813910</td>\n",
       "      <td>7.938604</td>\n",
       "      <td>179.794364</td>\n",
       "      <td>2.901086</td>\n",
       "      <td>5.536856</td>\n",
       "    </tr>\n",
       "    <tr>\n",
       "      <th>496</th>\n",
       "      <td>26.673122</td>\n",
       "      <td>279.328394</td>\n",
       "      <td>67.169421</td>\n",
       "      <td>7.413229</td>\n",
       "      <td>8.618232</td>\n",
       "      <td>73.590981</td>\n",
       "      <td>8.766971</td>\n",
       "      <td>4.675209</td>\n",
       "    </tr>\n",
       "    <tr>\n",
       "      <th>497</th>\n",
       "      <td>16.554693</td>\n",
       "      <td>84.204658</td>\n",
       "      <td>57.809643</td>\n",
       "      <td>5.637916</td>\n",
       "      <td>10.924617</td>\n",
       "      <td>96.468179</td>\n",
       "      <td>8.974841</td>\n",
       "      <td>5.156579</td>\n",
       "    </tr>\n",
       "    <tr>\n",
       "      <th>498</th>\n",
       "      <td>34.487896</td>\n",
       "      <td>287.559338</td>\n",
       "      <td>52.787147</td>\n",
       "      <td>5.614109</td>\n",
       "      <td>11.845915</td>\n",
       "      <td>93.506830</td>\n",
       "      <td>2.769882</td>\n",
       "      <td>6.239525</td>\n",
       "    </tr>\n",
       "    <tr>\n",
       "      <th>499</th>\n",
       "      <td>34.724215</td>\n",
       "      <td>161.501443</td>\n",
       "      <td>81.800019</td>\n",
       "      <td>6.064374</td>\n",
       "      <td>7.260674</td>\n",
       "      <td>180.712105</td>\n",
       "      <td>7.636835</td>\n",
       "      <td>3.290939</td>\n",
       "    </tr>\n",
       "  </tbody>\n",
       "</table>\n",
       "<p>500 rows × 8 columns</p>\n",
       "</div>"
      ],
      "text/plain": [
       "     Temperature_C  Rainfall_mm  Humidity_%   Soil_pH  Sunshine_hours  \\\n",
       "0        22.490802   224.540429   41.107976  6.538164        6.093645   \n",
       "1        34.014286   184.024092   62.514057  6.458364        5.975830   \n",
       "2        29.639879   127.381904   82.376750  5.551284       11.250037   \n",
       "3        26.973170   253.448755   73.933493  6.182496        5.996370   \n",
       "4        18.120373   221.182793   78.393669  6.260391        6.175598   \n",
       "..             ...          ...         ...       ...             ...   \n",
       "495      22.067045    72.895518   70.092768  6.813910        7.938604   \n",
       "496      26.673122   279.328394   67.169421  7.413229        8.618232   \n",
       "497      16.554693    84.204658   57.809643  5.637916       10.924617   \n",
       "498      34.487896   287.559338   52.787147  5.614109       11.845915   \n",
       "499      34.724215   161.501443   81.800019  6.064374        7.260674   \n",
       "\n",
       "     Fertilizer_kg_per_hectare  Pesticide_kg_per_hectare  \\\n",
       "0                   174.127838                  7.054327   \n",
       "1                   164.679169                  8.170133   \n",
       "2                   136.029343                  3.254211   \n",
       "3                   193.407072                  6.623867   \n",
       "4                    80.071177                  6.145714   \n",
       "..                         ...                       ...   \n",
       "495                 179.794364                  2.901086   \n",
       "496                  73.590981                  8.766971   \n",
       "497                  96.468179                  8.974841   \n",
       "498                  93.506830                  2.769882   \n",
       "499                 180.712105                  7.636835   \n",
       "\n",
       "     Crop_Yield_tonnes_per_hectare  \n",
       "0                         4.292156  \n",
       "1                         8.421122  \n",
       "2                         9.977903  \n",
       "3                         2.240208  \n",
       "4                         9.178927  \n",
       "..                             ...  \n",
       "495                       5.536856  \n",
       "496                       4.675209  \n",
       "497                       5.156579  \n",
       "498                       6.239525  \n",
       "499                       3.290939  \n",
       "\n",
       "[500 rows x 8 columns]"
      ]
     },
     "execution_count": 2,
     "metadata": {},
     "output_type": "execute_result"
    }
   ],
   "source": [
    "data = pd.read_csv(\"synthetic_agricultural_data.csv\")\n",
    "data"
   ]
  },
  {
   "cell_type": "code",
   "execution_count": 3,
   "id": "00315693",
   "metadata": {},
   "outputs": [],
   "source": [
    "threshold = data[\"Crop_Yield_tonnes_per_hectare\"].median()\n",
    "data[\"High_Yield\"] = (data[\"Crop_Yield_tonnes_per_hectare\"] > threshold).astype(int)"
   ]
  },
  {
   "cell_type": "code",
   "execution_count": 4,
   "id": "6aba259a",
   "metadata": {},
   "outputs": [],
   "source": [
    "features = [\n",
    "    \"Temperature_C\",\n",
    "    \"Rainfall_mm\",\n",
    "    \"Humidity_%\",\n",
    "    \"Soil_pH\",\n",
    "    \"Sunshine_hours\",\n",
    "    \"Fertilizer_kg_per_hectare\",\n",
    "    \"Pesticide_kg_per_hectare\",\n",
    "]\n",
    "target = \"High_Yield\""
   ]
  },
  {
   "cell_type": "code",
   "execution_count": 5,
   "id": "75577a85",
   "metadata": {},
   "outputs": [],
   "source": [
    "X = data[features]\n",
    "y = data[target]\n"
   ]
  },
  {
   "cell_type": "code",
   "execution_count": 6,
   "id": "2c27edc5",
   "metadata": {},
   "outputs": [],
   "source": [
    "X_train, X_test, y_train, y_test = train_test_split(X, y, test_size=0.2, random_state=42)"
   ]
  },
  {
   "cell_type": "code",
   "execution_count": 7,
   "id": "0cb1c699",
   "metadata": {},
   "outputs": [
    {
     "data": {
      "text/html": [
       "<style>#sk-container-id-1 {color: black;background-color: white;}#sk-container-id-1 pre{padding: 0;}#sk-container-id-1 div.sk-toggleable {background-color: white;}#sk-container-id-1 label.sk-toggleable__label {cursor: pointer;display: block;width: 100%;margin-bottom: 0;padding: 0.3em;box-sizing: border-box;text-align: center;}#sk-container-id-1 label.sk-toggleable__label-arrow:before {content: \"▸\";float: left;margin-right: 0.25em;color: #696969;}#sk-container-id-1 label.sk-toggleable__label-arrow:hover:before {color: black;}#sk-container-id-1 div.sk-estimator:hover label.sk-toggleable__label-arrow:before {color: black;}#sk-container-id-1 div.sk-toggleable__content {max-height: 0;max-width: 0;overflow: hidden;text-align: left;background-color: #f0f8ff;}#sk-container-id-1 div.sk-toggleable__content pre {margin: 0.2em;color: black;border-radius: 0.25em;background-color: #f0f8ff;}#sk-container-id-1 input.sk-toggleable__control:checked~div.sk-toggleable__content {max-height: 200px;max-width: 100%;overflow: auto;}#sk-container-id-1 input.sk-toggleable__control:checked~label.sk-toggleable__label-arrow:before {content: \"▾\";}#sk-container-id-1 div.sk-estimator input.sk-toggleable__control:checked~label.sk-toggleable__label {background-color: #d4ebff;}#sk-container-id-1 div.sk-label input.sk-toggleable__control:checked~label.sk-toggleable__label {background-color: #d4ebff;}#sk-container-id-1 input.sk-hidden--visually {border: 0;clip: rect(1px 1px 1px 1px);clip: rect(1px, 1px, 1px, 1px);height: 1px;margin: -1px;overflow: hidden;padding: 0;position: absolute;width: 1px;}#sk-container-id-1 div.sk-estimator {font-family: monospace;background-color: #f0f8ff;border: 1px dotted black;border-radius: 0.25em;box-sizing: border-box;margin-bottom: 0.5em;}#sk-container-id-1 div.sk-estimator:hover {background-color: #d4ebff;}#sk-container-id-1 div.sk-parallel-item::after {content: \"\";width: 100%;border-bottom: 1px solid gray;flex-grow: 1;}#sk-container-id-1 div.sk-label:hover label.sk-toggleable__label {background-color: #d4ebff;}#sk-container-id-1 div.sk-serial::before {content: \"\";position: absolute;border-left: 1px solid gray;box-sizing: border-box;top: 0;bottom: 0;left: 50%;z-index: 0;}#sk-container-id-1 div.sk-serial {display: flex;flex-direction: column;align-items: center;background-color: white;padding-right: 0.2em;padding-left: 0.2em;position: relative;}#sk-container-id-1 div.sk-item {position: relative;z-index: 1;}#sk-container-id-1 div.sk-parallel {display: flex;align-items: stretch;justify-content: center;background-color: white;position: relative;}#sk-container-id-1 div.sk-item::before, #sk-container-id-1 div.sk-parallel-item::before {content: \"\";position: absolute;border-left: 1px solid gray;box-sizing: border-box;top: 0;bottom: 0;left: 50%;z-index: -1;}#sk-container-id-1 div.sk-parallel-item {display: flex;flex-direction: column;z-index: 1;position: relative;background-color: white;}#sk-container-id-1 div.sk-parallel-item:first-child::after {align-self: flex-end;width: 50%;}#sk-container-id-1 div.sk-parallel-item:last-child::after {align-self: flex-start;width: 50%;}#sk-container-id-1 div.sk-parallel-item:only-child::after {width: 0;}#sk-container-id-1 div.sk-dashed-wrapped {border: 1px dashed gray;margin: 0 0.4em 0.5em 0.4em;box-sizing: border-box;padding-bottom: 0.4em;background-color: white;}#sk-container-id-1 div.sk-label label {font-family: monospace;font-weight: bold;display: inline-block;line-height: 1.2em;}#sk-container-id-1 div.sk-label-container {text-align: center;}#sk-container-id-1 div.sk-container {/* jupyter's `normalize.less` sets `[hidden] { display: none; }` but bootstrap.min.css set `[hidden] { display: none !important; }` so we also need the `!important` here to be able to override the default hidden behavior on the sphinx rendered scikit-learn.org. See: https://github.com/scikit-learn/scikit-learn/issues/21755 */display: inline-block !important;position: relative;}#sk-container-id-1 div.sk-text-repr-fallback {display: none;}</style><div id=\"sk-container-id-1\" class=\"sk-top-container\"><div class=\"sk-text-repr-fallback\"><pre>RandomForestClassifier(random_state=42)</pre><b>In a Jupyter environment, please rerun this cell to show the HTML representation or trust the notebook. <br />On GitHub, the HTML representation is unable to render, please try loading this page with nbviewer.org.</b></div><div class=\"sk-container\" hidden><div class=\"sk-item\"><div class=\"sk-estimator sk-toggleable\"><input class=\"sk-toggleable__control sk-hidden--visually\" id=\"sk-estimator-id-1\" type=\"checkbox\" checked><label for=\"sk-estimator-id-1\" class=\"sk-toggleable__label sk-toggleable__label-arrow\">RandomForestClassifier</label><div class=\"sk-toggleable__content\"><pre>RandomForestClassifier(random_state=42)</pre></div></div></div></div></div>"
      ],
      "text/plain": [
       "RandomForestClassifier(random_state=42)"
      ]
     },
     "execution_count": 7,
     "metadata": {},
     "output_type": "execute_result"
    }
   ],
   "source": [
    "clf = RandomForestClassifier(random_state=42)\n",
    "clf.fit(X_train, y_train)\n"
   ]
  },
  {
   "cell_type": "code",
   "execution_count": 8,
   "id": "5de7d424",
   "metadata": {},
   "outputs": [],
   "source": [
    "y_pred = clf.predict(X_test)\n"
   ]
  },
  {
   "cell_type": "code",
   "execution_count": 9,
   "id": "db3f707e",
   "metadata": {},
   "outputs": [],
   "source": [
    "accuracy = accuracy_score(y_test, y_pred)\n",
    "report = classification_report(y_test, y_pred)\n"
   ]
  },
  {
   "cell_type": "code",
   "execution_count": 10,
   "id": "2eab0e27",
   "metadata": {},
   "outputs": [
    {
     "name": "stdout",
     "output_type": "stream",
     "text": [
      "Accuracy: 0.47\n",
      "\n",
      "Classification Report:\n",
      "               precision    recall  f1-score   support\n",
      "\n",
      "           0       0.49      0.52      0.50        52\n",
      "           1       0.44      0.42      0.43        48\n",
      "\n",
      "    accuracy                           0.47       100\n",
      "   macro avg       0.47      0.47      0.47       100\n",
      "weighted avg       0.47      0.47      0.47       100\n",
      "\n"
     ]
    }
   ],
   "source": [
    "print(\"Accuracy:\", accuracy)\n",
    "print(\"\\nClassification Report:\\n\", report)"
   ]
  },
  {
   "cell_type": "code",
   "execution_count": null,
   "id": "68e1f146",
   "metadata": {},
   "outputs": [],
   "source": []
  },
  {
   "cell_type": "code",
   "execution_count": null,
   "id": "ce3106a5",
   "metadata": {},
   "outputs": [],
   "source": []
  }
 ],
 "metadata": {
  "kernelspec": {
   "display_name": "Python 3 (ipykernel)",
   "language": "python",
   "name": "python3"
  },
  "language_info": {
   "codemirror_mode": {
    "name": "ipython",
    "version": 3
   },
   "file_extension": ".py",
   "mimetype": "text/x-python",
   "name": "python",
   "nbconvert_exporter": "python",
   "pygments_lexer": "ipython3",
   "version": "3.10.9"
  }
 },
 "nbformat": 4,
 "nbformat_minor": 5
}
